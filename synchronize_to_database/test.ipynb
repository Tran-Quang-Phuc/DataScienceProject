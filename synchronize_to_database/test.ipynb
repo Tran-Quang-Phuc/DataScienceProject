{
 "cells": [
  {
   "cell_type": "code",
   "execution_count": 1,
   "metadata": {},
   "outputs": [
    {
     "name": "stderr",
     "output_type": "stream",
     "text": [
      "24/01/05 14:59:44 WARN Utils: Your hostname, phuc-ASUS resolves to a loopback address: 127.0.1.1; using 192.168.0.102 instead (on interface wlp45s0)\n",
      "24/01/05 14:59:44 WARN Utils: Set SPARK_LOCAL_IP if you need to bind to another address\n"
     ]
    },
    {
     "name": "stdout",
     "output_type": "stream",
     "text": [
      ":: loading settings :: url = jar:file:/home/phuc/Practice/DataScience/DSProject/venv/lib/python3.10/site-packages/pyspark/jars/ivy-2.5.1.jar!/org/apache/ivy/core/settings/ivysettings.xml\n"
     ]
    },
    {
     "name": "stderr",
     "output_type": "stream",
     "text": [
      "Ivy Default Cache set to: /home/phuc/.ivy2/cache\n",
      "The jars for the packages stored in: /home/phuc/.ivy2/jars\n",
      "io.delta#delta-spark_2.12 added as a dependency\n",
      ":: resolving dependencies :: org.apache.spark#spark-submit-parent-6089eb70-fece-4ecd-b8eb-e815fd26741c;1.0\n",
      "\tconfs: [default]\n",
      "\tfound io.delta#delta-spark_2.12;3.0.0 in central\n",
      "\tfound io.delta#delta-storage;3.0.0 in central\n",
      "\tfound org.antlr#antlr4-runtime;4.9.3 in central\n",
      ":: resolution report :: resolve 114ms :: artifacts dl 4ms\n",
      "\t:: modules in use:\n",
      "\tio.delta#delta-spark_2.12;3.0.0 from central in [default]\n",
      "\tio.delta#delta-storage;3.0.0 from central in [default]\n",
      "\torg.antlr#antlr4-runtime;4.9.3 from central in [default]\n",
      "\t---------------------------------------------------------------------\n",
      "\t|                  |            modules            ||   artifacts   |\n",
      "\t|       conf       | number| search|dwnlded|evicted|| number|dwnlded|\n",
      "\t---------------------------------------------------------------------\n",
      "\t|      default     |   3   |   0   |   0   |   0   ||   3   |   0   |\n",
      "\t---------------------------------------------------------------------\n",
      ":: retrieving :: org.apache.spark#spark-submit-parent-6089eb70-fece-4ecd-b8eb-e815fd26741c\n",
      "\tconfs: [default]\n",
      "\t0 artifacts copied, 3 already retrieved (0kB/4ms)\n",
      "24/01/05 14:59:44 WARN NativeCodeLoader: Unable to load native-hadoop library for your platform... using builtin-java classes where applicable\n",
      "Setting default log level to \"WARN\".\n",
      "To adjust logging level use sc.setLogLevel(newLevel). For SparkR, use setLogLevel(newLevel).\n"
     ]
    }
   ],
   "source": [
    "from pyspark.sql import SparkSession\n",
    "import pyspark.sql.functions as F \n",
    "from utils.config_spark_delta import config_spark_delta\n",
    "\n",
    "\n",
    "builder = SparkSession.builder.master(\"local\")\n",
    "spark = config_spark_delta(builder)"
   ]
  },
  {
   "cell_type": "code",
   "execution_count": 7,
   "metadata": {},
   "outputs": [
    {
     "name": "stdout",
     "output_type": "stream",
     "text": [
      "+---+------+---+\n",
      "| id|  name|age|\n",
      "+---+------+---+\n",
      "| 10|Name10| 56|\n",
      "| 11|Name11| 19|\n",
      "| 12|Name12| 19|\n",
      "| 13|Name13| 29|\n",
      "| 14|Name14| 41|\n",
      "| 15|Name15| 18|\n",
      "| 16|Name16| 54|\n",
      "| 17|Name17| 49|\n",
      "| 18|Name18| 22|\n",
      "| 19|Name19| 39|\n",
      "| 20|Name20| 52|\n",
      "| 21|Name21| 25|\n",
      "| 22|Name22| 36|\n",
      "| 23|Name23| 34|\n",
      "| 24|Name24| 38|\n",
      "| 25|Name25| 28|\n",
      "| 26|Name26| 41|\n",
      "| 27|Name27| 54|\n",
      "| 28|Name28| 42|\n",
      "| 29|Name29| 24|\n",
      "+---+------+---+\n",
      "only showing top 20 rows\n",
      "\n"
     ]
    }
   ],
   "source": [
    "from pyspark.sql import SparkSession\n",
    "from pyspark.sql import Row\n",
    "import random\n",
    "\n",
    "# Create a Spark session\n",
    "spark = SparkSession.builder.appName(\"example\").getOrCreate()\n",
    "\n",
    "# Define your data\n",
    "data = [\n",
    "    Row(id=i, name=f\"Name{i}\", age=random.randint(18, 60))\n",
    "    for i in range(10, 50)\n",
    "]\n",
    "\n",
    "# Create a DataFrame\n",
    "df = spark.createDataFrame(data)\n",
    "\n",
    "# Show the DataFrame\n",
    "df.show()"
   ]
  },
  {
   "cell_type": "code",
   "execution_count": 8,
   "metadata": {},
   "outputs": [
    {
     "name": "stdout",
     "output_type": "stream",
     "text": [
      "\n",
      "#################################################\n",
      " Total records loaded - 40\n",
      " Total records rejected - 0\n",
      "#################################################\n",
      "\n",
      " Started Printing Error Messages ....\n",
      "[]\n",
      " Completed Printing Error Messages ....\n",
      " Started Printing Error Messages ....\n",
      "[]\n",
      " Completed Printing Error Messages ....\n",
      " Started Printing Error Messages ....\n",
      "[]\n",
      " Completed Printing Error Messages ....\n",
      " Started Printing Error Messages ....\n",
      "[]\n",
      " Completed Printing Error Messages ....\n",
      " Started Printing Error Messages ....\n",
      "[]\n",
      " Completed Printing Error Messages ....\n",
      " Started Printing Error Messages ....\n",
      "[]\n",
      " Completed Printing Error Messages ....\n",
      " Started Printing Error Messages ....\n",
      "[]\n",
      " Completed Printing Error Messages ....\n",
      " Started Printing Error Messages ....\n",
      "[]\n",
      " Completed Printing Error Messages ....\n"
     ]
    }
   ],
   "source": [
    "from synchronize_to_database.upsert_to_postgres import upsert_spark_df_to_postgres\n",
    "\n",
    "upsert_spark_df_to_postgres(\n",
    "    dataframe_to_upsert=df,\n",
    "    table_name='demo',\n",
    "    table_unique_key=['id'],\n",
    "    database_credentials={\n",
    "        \"host\": \"localhost\",\n",
    "        \"database\": \"datascience\",\n",
    "        \"user\": \"postgres\",\n",
    "        \"password\": \"postgres\",\n",
    "        \"port\": 5432\n",
    "    },\n",
    "    batch_size=5,\n",
    "    parallelism=1\n",
    ")"
   ]
  },
  {
   "cell_type": "code",
   "execution_count": null,
   "metadata": {},
   "outputs": [],
   "source": []
  }
 ],
 "metadata": {
  "kernelspec": {
   "display_name": "venv",
   "language": "python",
   "name": "python3"
  },
  "language_info": {
   "codemirror_mode": {
    "name": "ipython",
    "version": 3
   },
   "file_extension": ".py",
   "mimetype": "text/x-python",
   "name": "python",
   "nbconvert_exporter": "python",
   "pygments_lexer": "ipython3",
   "version": "3.10.12"
  }
 },
 "nbformat": 4,
 "nbformat_minor": 2
}
