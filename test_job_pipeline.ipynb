{
 "cells": [
  {
   "cell_type": "code",
   "execution_count": 1,
   "metadata": {},
   "outputs": [],
   "source": [
    "from pyspark.sql import SparkSession\n",
    "from pyspark.sql import functions as F\n",
    "from pyspark.sql import types as T\n",
    "from delta import *"
   ]
  },
  {
   "cell_type": "code",
   "execution_count": 2,
   "metadata": {},
   "outputs": [
    {
     "name": "stderr",
     "output_type": "stream",
     "text": [
      "23/12/17 09:53:40 WARN Utils: Your hostname, phuc-ASUS resolves to a loopback address: 127.0.1.1; using 192.168.0.103 instead (on interface wlp45s0)\n",
      "23/12/17 09:53:40 WARN Utils: Set SPARK_LOCAL_IP if you need to bind to another address\n"
     ]
    },
    {
     "name": "stdout",
     "output_type": "stream",
     "text": [
      ":: loading settings :: url = jar:file:/home/phuc/Practice/DataScience/DSProject/venv/lib/python3.10/site-packages/pyspark/jars/ivy-2.5.1.jar!/org/apache/ivy/core/settings/ivysettings.xml\n"
     ]
    },
    {
     "name": "stderr",
     "output_type": "stream",
     "text": [
      "Ivy Default Cache set to: /home/phuc/.ivy2/cache\n",
      "The jars for the packages stored in: /home/phuc/.ivy2/jars\n",
      "io.delta#delta-spark_2.12 added as a dependency\n",
      ":: resolving dependencies :: org.apache.spark#spark-submit-parent-a18e5fd4-bd4d-4e16-91f3-95817526c38a;1.0\n",
      "\tconfs: [default]\n",
      "\tfound io.delta#delta-spark_2.12;3.0.0 in central\n",
      "\tfound io.delta#delta-storage;3.0.0 in central\n",
      "\tfound org.antlr#antlr4-runtime;4.9.3 in central\n",
      ":: resolution report :: resolve 116ms :: artifacts dl 4ms\n",
      "\t:: modules in use:\n",
      "\tio.delta#delta-spark_2.12;3.0.0 from central in [default]\n",
      "\tio.delta#delta-storage;3.0.0 from central in [default]\n",
      "\torg.antlr#antlr4-runtime;4.9.3 from central in [default]\n",
      "\t---------------------------------------------------------------------\n",
      "\t|                  |            modules            ||   artifacts   |\n",
      "\t|       conf       | number| search|dwnlded|evicted|| number|dwnlded|\n",
      "\t---------------------------------------------------------------------\n",
      "\t|      default     |   3   |   0   |   0   |   0   ||   3   |   0   |\n",
      "\t---------------------------------------------------------------------\n",
      ":: retrieving :: org.apache.spark#spark-submit-parent-a18e5fd4-bd4d-4e16-91f3-95817526c38a\n",
      "\tconfs: [default]\n",
      "\t0 artifacts copied, 3 already retrieved (0kB/4ms)\n",
      "23/12/17 09:53:41 WARN NativeCodeLoader: Unable to load native-hadoop library for your platform... using builtin-java classes where applicable\n",
      "Setting default log level to \"WARN\".\n",
      "To adjust logging level use sc.setLogLevel(newLevel). For SparkR, use setLogLevel(newLevel).\n"
     ]
    }
   ],
   "source": [
    "builder = SparkSession.builder \\\n",
    "        .config(\"spark.sql.extensions\", \"io.delta.sql.DeltaSparkSessionExtension\") \\\n",
    "        .config(\"spark.sql.catalog.spark_catalog\", \"org.apache.spark.sql.delta.catalog.DeltaCatalog\")\n",
    "\n",
    "spark = configure_spark_with_delta_pip(builder).getOrCreate()"
   ]
  },
  {
   "cell_type": "markdown",
   "metadata": {},
   "source": [
    "### Read raw data"
   ]
  },
  {
   "cell_type": "code",
   "execution_count": 3,
   "metadata": {},
   "outputs": [],
   "source": [
    "job_path = \"/home/phuc/Practice/DataScience/DSProject/data/raw/careerlink/2023-12-17T02-43-28+00-00.csv\"\n",
    "job_df = spark.read.csv(job_path, header=True)"
   ]
  },
  {
   "cell_type": "code",
   "execution_count": 4,
   "metadata": {},
   "outputs": [
    {
     "name": "stdout",
     "output_type": "stream",
     "text": [
      "root\n",
      " |-- post_id: string (nullable = true)\n",
      " |-- job_title: string (nullable = true)\n",
      " |-- job_listed: string (nullable = true)\n",
      " |-- salary: string (nullable = true)\n",
      " |-- job_deadline: string (nullable = true)\n",
      " |-- company_name: string (nullable = true)\n",
      " |-- job_address: string (nullable = true)\n",
      " |-- job_experience_requied: string (nullable = true)\n",
      " |-- employment_type: string (nullable = true)\n",
      " |-- job_function: string (nullable = true)\n",
      " |-- education_level: string (nullable = true)\n",
      " |-- gender: string (nullable = true)\n",
      " |-- Industries: string (nullable = true)\n",
      " |-- job_description: string (nullable = true)\n",
      " |-- skill: string (nullable = true)\n",
      "\n"
     ]
    }
   ],
   "source": [
    "job_df.printSchema()"
   ]
  },
  {
   "cell_type": "markdown",
   "metadata": {},
   "source": [
    "### Transform and ingest into delta lake"
   ]
  },
  {
   "cell_type": "code",
   "execution_count": 7,
   "metadata": {},
   "outputs": [],
   "source": [
    "from job_transformation.careerlink.transformation_and_ingestion import transform_and_ingest\n",
    "\n",
    "daily_table = \"/home/phuc/Practice/DataScience/DSProject/data/raw/careerlink/2023-12-17T02-43-28+00-00.csv\"\n",
    "ingest_table = \"/home/phuc/Practice/DataScience/DSProject/data/ingestion/careerlink\"\n",
    "\n",
    "transform_and_ingest(\n",
    "    daily_table=daily_table,\n",
    "    ingest_table=ingest_table\n",
    ")"
   ]
  },
  {
   "cell_type": "code",
   "execution_count": 6,
   "metadata": {},
   "outputs": [
    {
     "name": "stdout",
     "output_type": "stream",
     "text": [
      "+-------+--------------------+----------+--------------------+------------+--------------------+-----------------+----------------------+---------------+--------------------+--------+--------------------+--------------------+-------------+--------------------+-----------+-----------+----------+----------+-----------+----------+\n",
      "|post_id|           job_title|job_listed|              salary|job_deadline|        company_name|      job_address|job_experience_requied|employment_type|     education_level|  gender|     job_description|               skill|    job_level|            industry|job_yoe_min|job_yoe_max|salary_min|salary_max|ingested_at|updated_at|\n",
      "+-------+--------------------+----------+--------------------+------------+--------------------+-----------------+----------------------+---------------+--------------------+--------+--------------------+--------------------+-------------+--------------------+-----------+-----------+----------+----------+-----------+----------+\n",
      "|2733584|     Trưởng Phòng It|2023-12-16|        Thương lượng|  2024-01-16|       Sbay Việt Nam|          Đà Nẵng|  2 - 5 năm kinh ng...|      full time|             Cử nhân|Nam / Nữ|- VP Đà Nẵng: 03 ...|- Có kinh nghiệm ...|      Quản lý|Computer and tech...|          2|          5|      NULL|      NULL| 2023-12-17|2023-12-17|\n",
      "|2733467|Hcm - Giám Sát Cử...|2023-12-16|          Cạnh tranh|  2024-01-16|Maison Retail Man...|      Hồ Chí Minh|  1 - 2 năm kinh ng...|      full time|           Trung cấp|Nam / Nữ|- Chịu trách nhiệ...|- Tốt nghiệp từ t...|  Trưởng nhóm|               Other|          1|          2|      NULL|      NULL| 2023-12-17|2023-12-17|\n",
      "|2701039|Kỹ Sư Dịch Vụ  - ...|2023-11-27|  9 triệu - 10 triệu|  2023-12-28| Careerlink'S Client|           Hà Nội|  0 - 1 năm kinh ng...|      full time|           Nhân viên|     Nam|Công ty chuyên về...|- Nam dưới 30 tuổ...|    Nhân viên|       Manufacturing|          0|          1|   9000000|  10000000| 2023-12-17|2023-12-17|\n",
      "|2721200|        Nhân Viên Ie|2023-11-28|       Trên 10 triệu|  2023-12-29|Công Nghệ Coretro...|Bà Rịa - Vũng Tàu|         Trên 10 triệu|      full time|            Cao đẳng|     Nam|- Bảo trì thiết b...|- Có kinh nghiệm ...|Kỹ thuật viên|       Manufacturing|       NULL|       NULL|  10000000|      NULL| 2023-12-17|2023-12-17|\n",
      "|2733289|                 Bse|2023-12-15|1,800 USD - 2,500...|  2024-01-15| Careerlink'S Client|      Hồ Chí Minh|  5 - 10 năm kinh n...|      full time|Trưởng nhóm / Giá...|Nam / Nữ|- In charge of th...|- Japanese commun...|    Nhân viên|Computer and tech...|          5|         10|  43200000|  60000000| 2023-12-17|2023-12-17|\n",
      "|2733142|     Sales Logistics|2023-12-15| 13 triệu - 15 triệu|  2024-01-15|    Tập Đoàn Kim Tín|      Hồ Chí Minh|   13 triệu - 15 triệu|      full time|           Nhân viên|Nam / Nữ|- Chăm sóc, duy t...|- Tốt nghiệp Cao ...|    Nhân viên|      Transportation|       NULL|       NULL|  13000000|  15000000| 2023-12-17|2023-12-17|\n",
      "|2732998|Tư Vấn Viên Trung...|2023-12-15|       Trên 10 triệu|  2024-01-15|Dược Phẩm Fpt Lon...|          Lào Cai|  0 - 1 năm kinh ng...|      full time| Trung học phổ thông|Nam / Nữ|- Chủ động đón ti...|- Tốt nghiệp THPT...|    Nhân viên|         Hospitality|          0|          1|  10000000|      NULL| 2023-12-17|2023-12-17|\n",
      "|2732908|Chuyên Viên Chăm ...|2023-12-15|  1 triệu - 15 triệu|  2024-01-15|Hệ Thống Anh Ngữ ...|         Bắc Ninh|  0 - 1 năm kinh ng...|      full time|            Cao đẳng|Nam / Nữ|- Chăm sóc khách ...|- Nữ/Nam tuổi từ ...|    Nhân viên|         Hospitality|          0|          1|   1000000|  15000000| 2023-12-17|2023-12-17|\n",
      "|2732759|      Chỉ Huy Trưởng|2023-12-15|          Cạnh tranh|  2024-01-15|Phát Triển Và Đầu...|         Hưng Yên|  2 - 5 năm kinh ng...|      full time|               Kỹ sư|     Nam|- Thực hiện lên k...|- Tốt nghiệp đại ...|    Nhân viên|        Construction|          2|          5|      NULL|      NULL| 2023-12-17|2023-12-17|\n",
      "|2732672|Nhân Viên Kế Toán...|2023-12-15|  7 triệu - 10 triệu|  2024-01-15|Tập Đoàn Giáo Dục...|        Hải Dương|  0 - 1 năm kinh ng...|      full time|             Cử nhân|Nam / Nữ|- Các nghiệp vụ k...|- Tốt nghiệp Đại ...|    Nhân viên|Finance and economic|          0|          1|   7000000|  10000000| 2023-12-17|2023-12-17|\n",
      "|2732606|   Nhân Viên Nhân Sự|2023-12-15|        Thương lượng|  2024-01-15|Tập Đoàn Giáo Dục...|      Hồ Chí Minh|  0 - 1 năm kinh ng...|      part time|            Cao đẳng|Nam / Nữ|- Thực hiện công ...|- Ưu tiên ứng viê...|    Nhân viên|               Other|          0|          1|      NULL|      NULL| 2023-12-17|2023-12-17|\n",
      "|2732191|Fob Garment Merch...|2023-12-15| 13 triệu - 20 triệu|  2024-01-15|   Tập Đoàn Minh Anh|           Hà Nội|  2 - 5 năm kinh ng...|      full time|           Nhân viên|Nam / Nữ|- Discuss with th...|- College degree,...|    Nhân viên|      Transportation|          2|          5|  13000000|  20000000| 2023-12-17|2023-12-17|\n",
      "|2732532|       Tổ Trưởng Hàn|2023-12-14|        Thương lượng|  2024-01-14|       Công Nghệ Vts|Bà Rịa - Vũng Tàu|  2 - 5 năm kinh ng...|      full time|           Trung cấp|Nam / Nữ|- Số lượng: 01 ng...|- Yêu cầu: Thành ...|  Trưởng nhóm|       Manufacturing|          2|          5|      NULL|      NULL| 2023-12-17|2023-12-17|\n",
      "|2732342|Content Social Ma...|2023-12-14|        Thương lượng|  2024-01-14| Đầu Tư A&B Việt Nam|           Hà Nội|  1 - 2 năm kinh ng...|      full time|            Cao đẳng|Nam / Nữ|                NULL|                NULL|    Nhân viên|Advertising and m...|          1|          2|      NULL|      NULL| 2023-12-17|2023-12-17|\n",
      "|2725981|Điều Dưỡng/ Kỹ Th...|2023-12-05|        Thương lượng|  2024-01-05|Bệnh Viện Đa Khoa...|      Hồ Chí Minh|  0 - 1 năm kinh ng...|      full time|           Trung cấp|Nam / Nữ|- Hỗ trợ bác sĩ t...|- Nam/Nữ, tuổi từ...|    Nhân viên|         Health care|          0|          1|      NULL|      NULL| 2023-12-17|2023-12-17|\n",
      "|2732153|Chuyên Viên Kinh ...|2023-12-14|          Cạnh tranh|  2024-01-14|            Manulife|          Phú Thọ|  0 - 1 năm kinh ng...|      full time|           Nhân viên|Nam / Nữ|- Là đại diện của...|- Nam/Nữ, tuổi từ...|    Nhân viên|Finance and economic|          0|          1|      NULL|      NULL| 2023-12-17|2023-12-17|\n",
      "|2721899|Chuyên Viên Tư Vấ...|2023-11-28| 10 triệu - 20 triệu|  2023-12-29|            Manulife|          Bắc Cạn|  1 - 2 năm kinh ng...|      full time|           Nhân viên|      Nữ|- Chịu trách nhiệ...|- Tốt nghiệp Cao ...|    Nhân viên|Finance and economic|          1|          2|  10000000|  20000000| 2023-12-17|2023-12-17|\n",
      "|2721900|Chuyên Viên Tư Vấ...|2023-11-28|          Cạnh tranh|  2023-12-29|            Manulife|          Bắc Cạn|  0 - 1 năm kinh ng...|      full time|           Nhân viên|Nam / Nữ|- Là đại diện của...|- Nam/Nữ, tuổi từ...|    Nhân viên|Finance and economic|          0|          1|      NULL|      NULL| 2023-12-17|2023-12-17|\n",
      "|2725848|Chuyên Viên Tư Vấ...|2023-12-05|          Cạnh tranh|  2024-01-05|            Manulife|           Hà Nội|  0 - 1 năm kinh ng...|      full time|           Nhân viên|Nam / Nữ|- Là đại diện của...|- Nam/Nữ, tuổi từ...|    Nhân viên|         Hospitality|          0|          1|      NULL|      NULL| 2023-12-17|2023-12-17|\n",
      "|2725658|Vietinbank Huyện ...|2023-12-05| 10 triệu - 20 triệu|  2024-01-05|            Manulife|           Hà Nội|  0 - 1 năm kinh ng...|      full time|           Nhân viên|Nam / Nữ|- Là đại diện của...|- Nam/Nữ, tuổi từ...|    Nhân viên|         Hospitality|          0|          1|  10000000|  20000000| 2023-12-17|2023-12-17|\n",
      "+-------+--------------------+----------+--------------------+------------+--------------------+-----------------+----------------------+---------------+--------------------+--------+--------------------+--------------------+-------------+--------------------+-----------+-----------+----------+----------+-----------+----------+\n",
      "only showing top 20 rows\n",
      "\n"
     ]
    }
   ],
   "source": [
    "ingest_df = spark.read.format(\"delta\").load(\"/home/phuc/Practice/DataScience/DSProject/data/ingestion/careerlink\")\n",
    "ingest_df.show(truncate=True)"
   ]
  },
  {
   "cell_type": "code",
   "execution_count": null,
   "metadata": {},
   "outputs": [
    {
     "name": "stdout",
     "output_type": "stream",
     "text": [
      "root\n",
      " |-- Industries: string (nullable = true)\n",
      " |-- company_name: string (nullable = true)\n",
      " |-- education_level: string (nullable = true)\n",
      " |-- employment_type: string (nullable = true)\n",
      " |-- gender: string (nullable = true)\n",
      " |-- job_address: string (nullable = true)\n",
      " |-- job_deadline: date (nullable = true)\n",
      " |-- job_description: string (nullable = true)\n",
      " |-- job_experience_requied: string (nullable = true)\n",
      " |-- job_listed: date (nullable = true)\n",
      " |-- job_title: string (nullable = true)\n",
      " |-- post_id: string (nullable = true)\n",
      " |-- salary: string (nullable = true)\n",
      " |-- skill: string (nullable = true)\n",
      " |-- job_role: string (nullable = true)\n",
      " |-- job_yoe_min: integer (nullable = true)\n",
      " |-- job_yoe_max: integer (nullable = true)\n",
      " |-- salary_min: integer (nullable = true)\n",
      " |-- salary_max: integer (nullable = true)\n",
      " |-- ingested_at: date (nullable = true)\n",
      " |-- updated_at: date (nullable = true)\n",
      " |-- job_level: string (nullable = true)\n",
      "\n"
     ]
    }
   ],
   "source": [
    "ingest_df.printSchema()"
   ]
  },
  {
   "cell_type": "code",
   "execution_count": null,
   "metadata": {},
   "outputs": [],
   "source": []
  },
  {
   "cell_type": "code",
   "execution_count": null,
   "metadata": {},
   "outputs": [],
   "source": []
  }
 ],
 "metadata": {
  "kernelspec": {
   "display_name": "venv",
   "language": "python",
   "name": "python3"
  },
  "language_info": {
   "codemirror_mode": {
    "name": "ipython",
    "version": 3
   },
   "file_extension": ".py",
   "mimetype": "text/x-python",
   "name": "python",
   "nbconvert_exporter": "python",
   "pygments_lexer": "ipython3",
   "version": "3.10.12"
  }
 },
 "nbformat": 4,
 "nbformat_minor": 2
}
